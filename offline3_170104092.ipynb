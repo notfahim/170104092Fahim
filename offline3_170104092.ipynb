{
  "nbformat": 4,
  "nbformat_minor": 0,
  "metadata": {
    "colab": {
      "name": "offline2_170104092.ipynb",
      "provenance": []
    },
    "kernelspec": {
      "display_name": "Python 3",
      "name": "python3"
    },
    "language_info": {
      "name": "python"
    }
  },
  "cells": [
    {
      "cell_type": "code",
      "metadata": {
        "id": "4WGEZhfsIgir"
      },
      "source": [
        "import numpy as np\n",
        "import pandas as pd\n",
        "import seaborn as sns\n",
        "import tensorflow as tf\n",
        "import matplotlib.pyplot as plt\n",
        "\n",
        "from keras.preprocessing.text import Tokenizer\n",
        "from keras.preprocessing.sequence import pad_sequences\n",
        "from keras.models import Sequential\n",
        "from keras import layers\n",
        "from keras import backend as K\n",
        "from keras.utils.vis_utils import plot_model\n",
        "\n",
        "from sklearn.metrics import accuracy_score\n",
        "from sklearn.metrics import precision_score\n",
        "from sklearn.metrics import recall_score\n",
        "from sklearn.metrics import f1_score\n",
        "from sklearn.metrics import confusion_matrix"
      ],
      "execution_count": 66,
      "outputs": []
    },
    {
      "cell_type": "code",
      "metadata": {
        "colab": {
          "base_uri": "https://localhost:8080/"
        },
        "id": "WgK8Jexudc9z",
        "outputId": "962e85ce-11ce-4582-9717-e08c008ad688"
      },
      "source": [
        "from google.colab import drive\n",
        "drive.mount('/content/drive')"
      ],
      "execution_count": 67,
      "outputs": [
        {
          "output_type": "stream",
          "name": "stdout",
          "text": [
            "Drive already mounted at /content/drive; to attempt to forcibly remount, call drive.mount(\"/content/drive\", force_remount=True).\n"
          ]
        }
      ]
    },
    {
      "cell_type": "code",
      "metadata": {
        "colab": {
          "base_uri": "https://localhost:8080/",
          "height": 417
        },
        "id": "v0kh0MDAdgeG",
        "outputId": "09a2432d-85b3-43ae-d395-58cbb19489b4"
      },
      "source": [
        "data = pd.read_csv('/content/drive/MyDrive/Soft Comp/Dataset 3.csv', engine = 'python')\n",
        "\n",
        "data"
      ],
      "execution_count": 68,
      "outputs": [
        {
          "output_type": "execute_result",
          "data": {
            "text/html": [
              "<div>\n",
              "<style scoped>\n",
              "    .dataframe tbody tr th:only-of-type {\n",
              "        vertical-align: middle;\n",
              "    }\n",
              "\n",
              "    .dataframe tbody tr th {\n",
              "        vertical-align: top;\n",
              "    }\n",
              "\n",
              "    .dataframe thead th {\n",
              "        text-align: right;\n",
              "    }\n",
              "</style>\n",
              "<table border=\"1\" class=\"dataframe\">\n",
              "  <thead>\n",
              "    <tr style=\"text-align: right;\">\n",
              "      <th></th>\n",
              "      <th>tweets</th>\n",
              "      <th>sentiment</th>\n",
              "    </tr>\n",
              "  </thead>\n",
              "  <tbody>\n",
              "    <tr>\n",
              "      <th>0</th>\n",
              "      <td>just had a real good moment. i missssssssss hi...</td>\n",
              "      <td>0</td>\n",
              "    </tr>\n",
              "    <tr>\n",
              "      <th>1</th>\n",
              "      <td>is reading manga  http://plurk.com/p/mzp1e</td>\n",
              "      <td>0</td>\n",
              "    </tr>\n",
              "    <tr>\n",
              "      <th>2</th>\n",
              "      <td>@comeagainjen http://twitpic.com/2y2lx - http:...</td>\n",
              "      <td>0</td>\n",
              "    </tr>\n",
              "    <tr>\n",
              "      <th>3</th>\n",
              "      <td>@lapcat Need to send 'em to my accountant tomo...</td>\n",
              "      <td>0</td>\n",
              "    </tr>\n",
              "    <tr>\n",
              "      <th>4</th>\n",
              "      <td>ADD ME ON MYSPACE!!!  myspace.com/LookThunder</td>\n",
              "      <td>0</td>\n",
              "    </tr>\n",
              "    <tr>\n",
              "      <th>...</th>\n",
              "      <td>...</td>\n",
              "      <td>...</td>\n",
              "    </tr>\n",
              "    <tr>\n",
              "      <th>10309</th>\n",
              "      <td>No Depression by G Herbo is my mood from now o...</td>\n",
              "      <td>1</td>\n",
              "    </tr>\n",
              "    <tr>\n",
              "      <th>10310</th>\n",
              "      <td>What do you do when depression succumbs the br...</td>\n",
              "      <td>1</td>\n",
              "    </tr>\n",
              "    <tr>\n",
              "      <th>10311</th>\n",
              "      <td>Ketamine Nasal Spray Shows Promise Against Dep...</td>\n",
              "      <td>1</td>\n",
              "    </tr>\n",
              "    <tr>\n",
              "      <th>10312</th>\n",
              "      <td>dont mistake a bad day with depression! everyo...</td>\n",
              "      <td>1</td>\n",
              "    </tr>\n",
              "    <tr>\n",
              "      <th>10313</th>\n",
              "      <td>0</td>\n",
              "      <td>1</td>\n",
              "    </tr>\n",
              "  </tbody>\n",
              "</table>\n",
              "<p>10314 rows × 2 columns</p>\n",
              "</div>"
            ],
            "text/plain": [
              "                                                  tweets  sentiment\n",
              "0      just had a real good moment. i missssssssss hi...          0\n",
              "1             is reading manga  http://plurk.com/p/mzp1e          0\n",
              "2      @comeagainjen http://twitpic.com/2y2lx - http:...          0\n",
              "3      @lapcat Need to send 'em to my accountant tomo...          0\n",
              "4          ADD ME ON MYSPACE!!!  myspace.com/LookThunder          0\n",
              "...                                                  ...        ...\n",
              "10309  No Depression by G Herbo is my mood from now o...          1\n",
              "10310  What do you do when depression succumbs the br...          1\n",
              "10311  Ketamine Nasal Spray Shows Promise Against Dep...          1\n",
              "10312  dont mistake a bad day with depression! everyo...          1\n",
              "10313                                                  0          1\n",
              "\n",
              "[10314 rows x 2 columns]"
            ]
          },
          "metadata": {},
          "execution_count": 68
        }
      ]
    },
    {
      "cell_type": "code",
      "metadata": {
        "colab": {
          "base_uri": "https://localhost:8080/",
          "height": 470
        },
        "id": "AWS8IlDJeS0n",
        "outputId": "2c56985b-70c3-4323-f6da-5e31a3c3bfee"
      },
      "source": [
        "data = data.sample(frac = 1., random_state = 14).reset_index(drop = True)\n",
        "\n",
        "print(data['sentiment'].value_counts(0))\n",
        "data"
      ],
      "execution_count": 69,
      "outputs": [
        {
          "output_type": "stream",
          "name": "stdout",
          "text": [
            "0    8000\n",
            "1    2314\n",
            "Name: sentiment, dtype: int64\n"
          ]
        },
        {
          "output_type": "execute_result",
          "data": {
            "text/html": [
              "<div>\n",
              "<style scoped>\n",
              "    .dataframe tbody tr th:only-of-type {\n",
              "        vertical-align: middle;\n",
              "    }\n",
              "\n",
              "    .dataframe tbody tr th {\n",
              "        vertical-align: top;\n",
              "    }\n",
              "\n",
              "    .dataframe thead th {\n",
              "        text-align: right;\n",
              "    }\n",
              "</style>\n",
              "<table border=\"1\" class=\"dataframe\">\n",
              "  <thead>\n",
              "    <tr style=\"text-align: right;\">\n",
              "      <th></th>\n",
              "      <th>tweets</th>\n",
              "      <th>sentiment</th>\n",
              "    </tr>\n",
              "  </thead>\n",
              "  <tbody>\n",
              "    <tr>\n",
              "      <th>0</th>\n",
              "      <td>@1WineDude That's a really cool giveaway!</td>\n",
              "      <td>0</td>\n",
              "    </tr>\n",
              "    <tr>\n",
              "      <th>1</th>\n",
              "      <td>Need a good web series? Check out GIANTS on Yo...</td>\n",
              "      <td>1</td>\n",
              "    </tr>\n",
              "    <tr>\n",
              "      <th>2</th>\n",
              "      <td>Procastinated by doing up a new playlist for T...</td>\n",
              "      <td>0</td>\n",
              "    </tr>\n",
              "    <tr>\n",
              "      <th>3</th>\n",
              "      <td>@ZeenaBoBeena eeeek!!!! Good luck, Zeena!!! Yo...</td>\n",
              "      <td>0</td>\n",
              "    </tr>\n",
              "    <tr>\n",
              "      <th>4</th>\n",
              "      <td>@ChynaDoll74 Good morning to you too</td>\n",
              "      <td>0</td>\n",
              "    </tr>\n",
              "    <tr>\n",
              "      <th>...</th>\n",
              "      <td>...</td>\n",
              "      <td>...</td>\n",
              "    </tr>\n",
              "    <tr>\n",
              "      <th>10309</th>\n",
              "      <td>Summer session starts today  Why am I smiling.</td>\n",
              "      <td>0</td>\n",
              "    </tr>\n",
              "    <tr>\n",
              "      <th>10310</th>\n",
              "      <td>@Desireeeeee really me to.!</td>\n",
              "      <td>0</td>\n",
              "    </tr>\n",
              "    <tr>\n",
              "      <th>10311</th>\n",
              "      <td>@Jason_Pollock I think they heard you.</td>\n",
              "      <td>0</td>\n",
              "    </tr>\n",
              "    <tr>\n",
              "      <th>10312</th>\n",
              "      <td>@OliviaMaynard13 You're most welcome. I don't ...</td>\n",
              "      <td>1</td>\n",
              "    </tr>\n",
              "    <tr>\n",
              "      <th>10313</th>\n",
              "      <td>Lakers is the best team of the west conference</td>\n",
              "      <td>0</td>\n",
              "    </tr>\n",
              "  </tbody>\n",
              "</table>\n",
              "<p>10314 rows × 2 columns</p>\n",
              "</div>"
            ],
            "text/plain": [
              "                                                  tweets  sentiment\n",
              "0             @1WineDude That's a really cool giveaway!           0\n",
              "1      Need a good web series? Check out GIANTS on Yo...          1\n",
              "2      Procastinated by doing up a new playlist for T...          0\n",
              "3      @ZeenaBoBeena eeeek!!!! Good luck, Zeena!!! Yo...          0\n",
              "4                  @ChynaDoll74 Good morning to you too           0\n",
              "...                                                  ...        ...\n",
              "10309     Summer session starts today  Why am I smiling.          0\n",
              "10310                       @Desireeeeee really me to.!           0\n",
              "10311            @Jason_Pollock I think they heard you.           0\n",
              "10312  @OliviaMaynard13 You're most welcome. I don't ...          1\n",
              "10313    Lakers is the best team of the west conference           0\n",
              "\n",
              "[10314 rows x 2 columns]"
            ]
          },
          "metadata": {},
          "execution_count": 69
        }
      ]
    },
    {
      "cell_type": "code",
      "metadata": {
        "id": "VJusLOUCq3g_"
      },
      "source": [
        "X = list()\n",
        "Y = list()\n",
        "for index, row in data.iterrows():\n",
        "    X.append(str(getattr(row, \"tweets\")))\n",
        "    Y.append(getattr(row, \"sentiment\"))"
      ],
      "execution_count": 84,
      "outputs": []
    },
    {
      "cell_type": "code",
      "metadata": {
        "id": "AXNULJi2rIM5"
      },
      "source": [
        "x_train,x_test,y_train,y_test= train_test_split(X,Y,test_size=0.2)"
      ],
      "execution_count": 85,
      "outputs": []
    },
    {
      "cell_type": "code",
      "metadata": {
        "id": "s0ZYo_CCrOmv"
      },
      "source": [
        "tokenizer = tf.keras.preprocessing.text.Tokenizer(lower = False)\n",
        "\n",
        "tokenizer.fit_on_texts(x_train)"
      ],
      "execution_count": 86,
      "outputs": []
    },
    {
      "cell_type": "code",
      "metadata": {
        "id": "_G-vOzUArWlF"
      },
      "source": [
        "convertToSeq = tokenizer.texts_to_sequences(x_train)"
      ],
      "execution_count": 87,
      "outputs": []
    },
    {
      "cell_type": "code",
      "metadata": {
        "id": "yMijElHlrXx1"
      },
      "source": [
        "max_length_x_train = max([len(s.split()) for s in x_train])\n",
        "x_train = tf.keras.preprocessing.sequence.pad_sequences(convertToSeq, maxlen=max_length_x_train , padding='post')"
      ],
      "execution_count": 88,
      "outputs": []
    },
    {
      "cell_type": "code",
      "metadata": {
        "colab": {
          "base_uri": "https://localhost:8080/"
        },
        "id": "JSN1qOL0ruQu",
        "outputId": "43470d0d-c70e-481d-bc37-299135e460de"
      },
      "source": [
        "x_train.shape\n"
      ],
      "execution_count": 89,
      "outputs": [
        {
          "output_type": "execute_result",
          "data": {
            "text/plain": [
              "(8251, 69)"
            ]
          },
          "metadata": {},
          "execution_count": 89
        }
      ]
    },
    {
      "cell_type": "code",
      "metadata": {
        "id": "dMtHgNl-r-ba"
      },
      "source": [
        "convertToSeqTest = tokenizer.texts_to_sequences(x_test)\n",
        "x_test = tf.keras.preprocessing.sequence.pad_sequences(convertToSeqTest , maxlen=max_length_x_train, padding='post')"
      ],
      "execution_count": 90,
      "outputs": []
    },
    {
      "cell_type": "code",
      "metadata": {
        "colab": {
          "base_uri": "https://localhost:8080/"
        },
        "id": "d9m0At2esFGa",
        "outputId": "4389a893-fe16-4e83-f38b-e2e4b36521fb"
      },
      "source": [
        "x_test.shape"
      ],
      "execution_count": 91,
      "outputs": [
        {
          "output_type": "execute_result",
          "data": {
            "text/plain": [
              "(2063, 69)"
            ]
          },
          "metadata": {},
          "execution_count": 91
        }
      ]
    },
    {
      "cell_type": "code",
      "metadata": {
        "id": "Xou4KDP-so1T"
      },
      "source": [
        "y_train = np.array(y_train)\n",
        "y_test = np.array(y_test)\n",
        "vocab_size = len(tokenizer.word_index) + 1"
      ],
      "execution_count": 92,
      "outputs": []
    },
    {
      "cell_type": "code",
      "metadata": {
        "id": "qybRn3foZFj2"
      },
      "source": [
        "from keras.datasets import imdb\n",
        "from keras.models import Sequential\n",
        "from keras.layers import Dense\n",
        "from keras.layers import Flatten\n",
        "from keras.layers.convolutional import Conv1D\n",
        "from keras.layers.convolutional import MaxPooling1D\n",
        "from keras.layers.embeddings import Embedding\n",
        "from keras.preprocessing import sequence\n",
        "\n",
        "# Building the CNN Model\n",
        "model = Sequential()      # initilaizing the Sequential nature for CNN model\n",
        "\n",
        "model.add(Embedding(vocab_size, 100, input_length=max_length_x_train))\n",
        "model.add(Conv1D(64, 3, padding='same', activation='relu'))\n",
        "model.add(MaxPooling1D())\n",
        "model.add(Conv1D(32, 3, padding='same', activation='relu'))\n",
        "model.add(MaxPooling1D())\n",
        "model.add(Conv1D(28, 3, padding='same', activation='relu'))\n",
        "model.add(MaxPooling1D())\n",
        "model.add(Flatten())\n",
        "model.add(Dense(10, activation='relu'))\n",
        "model.add(Dense(1, activation='sigmoid'))"
      ],
      "execution_count": 93,
      "outputs": []
    },
    {
      "cell_type": "code",
      "metadata": {
        "colab": {
          "base_uri": "https://localhost:8080/"
        },
        "id": "JMbrf_uvtTSr",
        "outputId": "c8a68002-083a-44f0-e314-6560d7580bd2"
      },
      "source": [
        "model.summary()"
      ],
      "execution_count": 94,
      "outputs": [
        {
          "output_type": "stream",
          "name": "stdout",
          "text": [
            "Model: \"sequential_9\"\n",
            "_________________________________________________________________\n",
            "Layer (type)                 Output Shape              Param #   \n",
            "=================================================================\n",
            "embedding_6 (Embedding)      (None, 69, 100)           2312400   \n",
            "_________________________________________________________________\n",
            "conv1d_9 (Conv1D)            (None, 69, 64)            19264     \n",
            "_________________________________________________________________\n",
            "max_pooling1d_9 (MaxPooling1 (None, 34, 64)            0         \n",
            "_________________________________________________________________\n",
            "conv1d_10 (Conv1D)           (None, 34, 32)            6176      \n",
            "_________________________________________________________________\n",
            "max_pooling1d_10 (MaxPooling (None, 17, 32)            0         \n",
            "_________________________________________________________________\n",
            "conv1d_11 (Conv1D)           (None, 17, 28)            2716      \n",
            "_________________________________________________________________\n",
            "max_pooling1d_11 (MaxPooling (None, 8, 28)             0         \n",
            "_________________________________________________________________\n",
            "flatten_7 (Flatten)          (None, 224)               0         \n",
            "_________________________________________________________________\n",
            "dense_14 (Dense)             (None, 10)                2250      \n",
            "_________________________________________________________________\n",
            "dense_15 (Dense)             (None, 1)                 11        \n",
            "=================================================================\n",
            "Total params: 2,342,817\n",
            "Trainable params: 2,342,817\n",
            "Non-trainable params: 0\n",
            "_________________________________________________________________\n"
          ]
        }
      ]
    },
    {
      "cell_type": "code",
      "metadata": {
        "colab": {
          "base_uri": "https://localhost:8080/"
        },
        "id": "jMrRXP5jcL5u",
        "outputId": "c9cb3856-b6a8-4347-80f8-9ce065dacaef"
      },
      "source": [
        "model.compile(loss='binary_crossentropy', optimizer='adam', metrics=['accuracy'])\n",
        "model.summary()"
      ],
      "execution_count": 95,
      "outputs": [
        {
          "output_type": "stream",
          "name": "stdout",
          "text": [
            "Model: \"sequential_9\"\n",
            "_________________________________________________________________\n",
            "Layer (type)                 Output Shape              Param #   \n",
            "=================================================================\n",
            "embedding_6 (Embedding)      (None, 69, 100)           2312400   \n",
            "_________________________________________________________________\n",
            "conv1d_9 (Conv1D)            (None, 69, 64)            19264     \n",
            "_________________________________________________________________\n",
            "max_pooling1d_9 (MaxPooling1 (None, 34, 64)            0         \n",
            "_________________________________________________________________\n",
            "conv1d_10 (Conv1D)           (None, 34, 32)            6176      \n",
            "_________________________________________________________________\n",
            "max_pooling1d_10 (MaxPooling (None, 17, 32)            0         \n",
            "_________________________________________________________________\n",
            "conv1d_11 (Conv1D)           (None, 17, 28)            2716      \n",
            "_________________________________________________________________\n",
            "max_pooling1d_11 (MaxPooling (None, 8, 28)             0         \n",
            "_________________________________________________________________\n",
            "flatten_7 (Flatten)          (None, 224)               0         \n",
            "_________________________________________________________________\n",
            "dense_14 (Dense)             (None, 10)                2250      \n",
            "_________________________________________________________________\n",
            "dense_15 (Dense)             (None, 1)                 11        \n",
            "=================================================================\n",
            "Total params: 2,342,817\n",
            "Trainable params: 2,342,817\n",
            "Non-trainable params: 0\n",
            "_________________________________________________________________\n"
          ]
        }
      ]
    },
    {
      "cell_type": "code",
      "metadata": {
        "colab": {
          "base_uri": "https://localhost:8080/"
        },
        "id": "CxjOAwQGth1z",
        "outputId": "4ec9e2c5-a659-4fe4-91c9-614c045bc55e"
      },
      "source": [
        "history = model.fit(x_train, y_train, epochs=20, batch_size=256, validation_data=(x_test, y_test), verbose=2)"
      ],
      "execution_count": 96,
      "outputs": [
        {
          "output_type": "stream",
          "name": "stdout",
          "text": [
            "Epoch 1/20\n",
            "33/33 - 6s - loss: 0.5656 - accuracy: 0.7592 - val_loss: 0.4142 - val_accuracy: 0.8366\n",
            "Epoch 2/20\n",
            "33/33 - 4s - loss: 0.3460 - accuracy: 0.8752 - val_loss: 0.1992 - val_accuracy: 0.9239\n",
            "Epoch 3/20\n",
            "33/33 - 4s - loss: 0.0850 - accuracy: 0.9710 - val_loss: 0.0713 - val_accuracy: 0.9806\n",
            "Epoch 4/20\n",
            "33/33 - 4s - loss: 0.0099 - accuracy: 0.9976 - val_loss: 0.0523 - val_accuracy: 0.9821\n",
            "Epoch 5/20\n",
            "33/33 - 4s - loss: 0.0026 - accuracy: 0.9995 - val_loss: 0.0435 - val_accuracy: 0.9864\n",
            "Epoch 6/20\n",
            "33/33 - 4s - loss: 0.0015 - accuracy: 0.9996 - val_loss: 0.0379 - val_accuracy: 0.9889\n",
            "Epoch 7/20\n",
            "33/33 - 4s - loss: 0.0012 - accuracy: 0.9996 - val_loss: 0.0429 - val_accuracy: 0.9879\n",
            "Epoch 8/20\n",
            "33/33 - 4s - loss: 9.5503e-04 - accuracy: 0.9996 - val_loss: 0.0377 - val_accuracy: 0.9903\n",
            "Epoch 9/20\n",
            "33/33 - 4s - loss: 8.2112e-04 - accuracy: 0.9998 - val_loss: 0.0516 - val_accuracy: 0.9845\n",
            "Epoch 10/20\n",
            "33/33 - 4s - loss: 7.2635e-04 - accuracy: 0.9998 - val_loss: 0.0353 - val_accuracy: 0.9898\n",
            "Epoch 11/20\n",
            "33/33 - 4s - loss: 6.3874e-04 - accuracy: 0.9998 - val_loss: 0.0447 - val_accuracy: 0.9874\n",
            "Epoch 12/20\n",
            "33/33 - 4s - loss: 5.2987e-04 - accuracy: 0.9998 - val_loss: 0.0421 - val_accuracy: 0.9884\n",
            "Epoch 13/20\n",
            "33/33 - 4s - loss: 5.4694e-04 - accuracy: 0.9996 - val_loss: 0.0432 - val_accuracy: 0.9884\n",
            "Epoch 14/20\n",
            "33/33 - 4s - loss: 4.4097e-04 - accuracy: 0.9998 - val_loss: 0.0439 - val_accuracy: 0.9884\n",
            "Epoch 15/20\n",
            "33/33 - 4s - loss: 4.1721e-04 - accuracy: 0.9998 - val_loss: 0.0484 - val_accuracy: 0.9869\n",
            "Epoch 16/20\n",
            "33/33 - 4s - loss: 3.6635e-04 - accuracy: 0.9996 - val_loss: 0.0470 - val_accuracy: 0.9879\n",
            "Epoch 17/20\n",
            "33/33 - 4s - loss: 3.2036e-04 - accuracy: 0.9999 - val_loss: 0.0427 - val_accuracy: 0.9884\n",
            "Epoch 18/20\n",
            "33/33 - 4s - loss: 3.0270e-04 - accuracy: 0.9999 - val_loss: 0.0478 - val_accuracy: 0.9874\n",
            "Epoch 19/20\n",
            "33/33 - 4s - loss: 2.9858e-04 - accuracy: 0.9998 - val_loss: 0.0445 - val_accuracy: 0.9884\n",
            "Epoch 20/20\n",
            "33/33 - 4s - loss: 2.8140e-04 - accuracy: 0.9999 - val_loss: 0.0475 - val_accuracy: 0.9879\n"
          ]
        }
      ]
    },
    {
      "cell_type": "code",
      "metadata": {
        "colab": {
          "base_uri": "https://localhost:8080/",
          "height": 752
        },
        "id": "Bj00eLNqticA",
        "outputId": "2c03dc32-14b3-493c-96f4-1ef564944286"
      },
      "source": [
        "def plot_graphs(history, string):\n",
        "  plt.plot(history.history[string])\n",
        "  plt.plot(history.history['val_'+string])\n",
        "  plt.xlabel(\"Epochs\")\n",
        "  plt.ylabel(string)\n",
        "  plt.legend([string, 'val_'+string])\n",
        "  plt.show()\n",
        "\n",
        "plot_graphs(history, 'accuracy')\n",
        "plot_graphs(history, 'loss')\n",
        "\n",
        "print('\\nEpoch No.  Train Accuracy  Train Loss     Val Accuracy    Val Loss')\n",
        "for i in range(EPOCH):\n",
        "  print('{:8d} {:10f} \\t {:10f} \\t {:10f} \\t {:10f}'.format(i + 1, history.history['accuracy'][i], history.history['loss'][i], history.history['val_accuracy'][i], history.history['val_loss'][i]))"
      ],
      "execution_count": 97,
      "outputs": [
        {
          "output_type": "display_data",
          "data": {
            "image/png": "[encoded data removed]",
            "text/plain": [
              "<Figure size 432x288 with 1 Axes>"
            ]
          },
          "metadata": {
            "needs_background": "light"
          }
        },
        {
          "output_type": "display_data",
          "data": {
            "image/png": "[encoded data removed]",
            "text/plain": [
              "<Figure size 432x288 with 1 Axes>"
            ]
          },
          "metadata": {
            "needs_background": "light"
          }
        },
        {
          "output_type": "stream",
          "name": "stdout",
          "text": [
            "\n",
            "Epoch No.  Train Accuracy  Train Loss     Val Accuracy    Val Loss\n",
            "       1   0.759181 \t   0.565605 \t   0.836646 \t   0.414246\n",
            "       2   0.875167 \t   0.345999 \t   0.923897 \t   0.199187\n",
            "       3   0.971034 \t   0.084980 \t   0.980611 \t   0.071288\n",
            "       4   0.997576 \t   0.009864 \t   0.982065 \t   0.052262\n",
            "       5   0.999515 \t   0.002573 \t   0.986428 \t   0.043475\n",
            "       6   0.999636 \t   0.001484 \t   0.988851 \t   0.037872\n",
            "       7   0.999636 \t   0.001208 \t   0.987882 \t   0.042855\n",
            "       8   0.999636 \t   0.000955 \t   0.990305 \t   0.037745\n",
            "       9   0.999758 \t   0.000821 \t   0.984489 \t   0.051571\n",
            "      10   0.999758 \t   0.000726 \t   0.989821 \t   0.035279\n"
          ]
        }
      ]
    },
    {
      "cell_type": "code",
      "metadata": {
        "colab": {
          "base_uri": "https://localhost:8080/",
          "height": 407
        },
        "id": "G4mKq9AHub7b",
        "outputId": "70422877-3be5-4508-bd01-a4670f580784"
      },
      "source": [
        "y_pred = model.predict(x_test)\n",
        "\n",
        "y_pred = np.where(y_pred > 0.5, 1, 0)\n",
        "y_pred = np.reshape(y_pred, (y_pred.shape[0]))\n",
        "\n",
        "loss, accuracy = model.evaluate(x_test, y_test, verbose = 1)\n",
        "print('Test Loss:', loss)\n",
        "print('Test Accuracy:', accuracy, '(Model Metric)')\n",
        "print('Test Accuracy:', accuracy_score(y_test, y_pred), '(sklearn Metric)')\n",
        "print('Test Precision:', precision_score(y_test, y_pred))\n",
        "print('Test Recall:', recall_score(y_test, y_pred))\n",
        "print('Test F1-score:', f1_score(y_test, y_pred))\n",
        "\n",
        "sns.heatmap(confusion_matrix(y_test, y_pred), annot = True, fmt = 'g')"
      ],
      "execution_count": 102,
      "outputs": [
        {
          "output_type": "stream",
          "name": "stdout",
          "text": [
            "65/65 [==============================] - 0s 6ms/step - loss: 0.0475 - accuracy: 0.9879\n",
            "Test Loss: 0.04749269410967827\n",
            "Test Accuracy: 0.9878817200660706 (Model Metric)\n",
            "Test Accuracy: 0.9878817256422685 (sklearn Metric)\n",
            "Test Precision: 0.9927710843373494\n",
            "Test Recall: 0.9493087557603687\n",
            "Test F1-score: 0.9705535924617196\n"
          ]
        },
        {
          "output_type": "execute_result",
          "data": {
            "text/plain": [
              "<matplotlib.axes._subplots.AxesSubplot at 0x7f0adfe5b990>"
            ]
          },
          "metadata": {},
          "execution_count": 102
        },
        {
          "output_type": "display_data",
          "data": {
            "image/png": "[encoded data removed]",
            "text/plain": [
              "<Figure size 432x288 with 2 Axes>"
            ]
          },
          "metadata": {
            "needs_background": "light"
          }
        }
      ]
    }
  ]
}